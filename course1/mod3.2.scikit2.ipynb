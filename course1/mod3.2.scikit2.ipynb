{
 "cells": [
  {
   "cell_type": "code",
   "execution_count": 1,
   "id": "38976e44",
   "metadata": {},
   "outputs": [
    {
     "name": "stdout",
     "output_type": "stream",
     "text": [
      "   CustomerID  Tenure  MonthlyCharges  TotalCharges        Contract  \\\n",
      "0        1001       5            70.0         350.0  Month-to-month   \n",
      "1        1002      10            85.5         850.5        Two year   \n",
      "2        1003       3            55.3         165.9        One year   \n",
      "3        1004       8            90.0         720.0  Month-to-month   \n",
      "4        1005       2            65.2         130.4        One year   \n",
      "\n",
      "      PaymentMethod  Churn  \n",
      "0  Electronic check      1  \n",
      "1      Mailed check      0  \n",
      "2  Electronic check      1  \n",
      "3       Credit card      0  \n",
      "4  Electronic check      1  \n",
      "<class 'pandas.core.frame.DataFrame'>\n",
      "RangeIndex: 5 entries, 0 to 4\n",
      "Data columns (total 7 columns):\n",
      " #   Column          Non-Null Count  Dtype  \n",
      "---  ------          --------------  -----  \n",
      " 0   CustomerID      5 non-null      int64  \n",
      " 1   Tenure          5 non-null      int64  \n",
      " 2   MonthlyCharges  5 non-null      float64\n",
      " 3   TotalCharges    5 non-null      float64\n",
      " 4   Contract        5 non-null      object \n",
      " 5   PaymentMethod   5 non-null      object \n",
      " 6   Churn           5 non-null      int64  \n",
      "dtypes: float64(2), int64(3), object(2)\n",
      "memory usage: 412.0+ bytes\n",
      "None\n",
      "Test accuracy: 1.0\n",
      "Pruned Test accuracy: 1.0\n"
     ]
    },
    {
     "data": {
      "text/plain": [
       "['churn_model.pkl']"
      ]
     },
     "execution_count": 1,
     "metadata": {},
     "output_type": "execute_result"
    }
   ],
   "source": [
    "from sklearn.model_selection import train_test_split\n",
    "from sklearn.ensemble import RandomForestClassifier\n",
    "from sklearn.metrics import accuracy_score\n",
    "import pandas as pd\n",
    "import numpy as np\n",
    "import matplotlib.pyplot as plt\n",
    "\n",
    "data = pd.read_csv('customer_churn.csv')\n",
    "print(data.head())\n",
    "print(data.info())\n",
    "\n",
    "\n",
    "# preprocess the data\n",
    "'''\n",
    "Handle missing values and simplify the dataset\n",
    "\n",
    "Identify and handle any missing values in the dataset. \n",
    "This could involve filling missing values, dropping rows or columns, \n",
    "or using imputation techniques. Removing unnecessary columns, such as CustomerID, \n",
    "helps keep the dataset clean. In this smaller dataset, \n",
    "removing these columns is essential to accurately train a model using only the important values. \n",
    "'''\n",
    "data = data.drop(columns=['CustomerID']) #Simplify the dataset\n",
    "data = data.dropna()  # Simple example of dropping missing values\n",
    "\n",
    "# Convert categorical variables into numerical format using techniques like one-hot encoding.\n",
    "data = pd.get_dummies(data, drop_first=True)\n",
    "\n",
    "#Split the data into training and testing sets to evaluate the model’s performance.\n",
    "X = data.drop('Churn', axis=1)\n",
    "y = data['Churn']\n",
    "\n",
    "X_train, X_test, y_train, y_test = train_test_split(X, y, test_size=0.2, random_state=42)\n",
    "\n",
    "#train the model using a Random Forest Classifier.\n",
    "model = RandomForestClassifier(n_estimators=100, random_state=42)\n",
    "\n",
    "#compile the model\n",
    "model.fit(X_train, y_train)\n",
    "\n",
    "#evaluate the model’s performance using accuracy score.\n",
    "predictions = model.predict(X_test)\n",
    "accuracy = accuracy_score(y_test, predictions)\n",
    "print(f'Test accuracy: {accuracy}')\n",
    "\n",
    "# simple visualization of feature importance\n",
    "# Simplify model by limiting its maximum depth\n",
    "pruned_model = RandomForestClassifier(n_estimators=100, random_state=42, max_depth=10, max_features='sqrt') \n",
    "\n",
    "pruned_model.fit(X_train, y_train) \n",
    "pruned_predictions = pruned_model.predict(X_test) \n",
    "pruned_accuracy = accuracy_score(y_test, pruned_predictions) \n",
    "print(f'Pruned Test accuracy: {pruned_accuracy}')\n",
    "\n",
    "# save the model, prepare for deployment\n",
    "import joblib\n",
    "joblib.dump(model, 'churn_model.pkl')"
   ]
  }
 ],
 "metadata": {
  "kernelspec": {
   "display_name": "3.12.10",
   "language": "python",
   "name": "python3"
  },
  "language_info": {
   "codemirror_mode": {
    "name": "ipython",
    "version": 3
   },
   "file_extension": ".py",
   "mimetype": "text/x-python",
   "name": "python",
   "nbconvert_exporter": "python",
   "pygments_lexer": "ipython3",
   "version": "3.12.10"
  }
 },
 "nbformat": 4,
 "nbformat_minor": 5
}
