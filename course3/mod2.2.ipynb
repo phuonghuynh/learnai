{
 "cells": [
  {
   "cell_type": "code",
   "execution_count": null,
   "id": "fcc00b28",
   "metadata": {},
   "outputs": [],
   "source": [
    "# Sample Knowledge Base for Network Troubleshooting\n",
    "knowledge_base = {\n",
    "\"restart_router\": \"Please restart your router and check if the problem persists.\",\n",
    "\"reset_network_settings\": \"Try resetting your network settings. Instructions are available in your system settings under 'Network Reset'.\",\n",
    "\"check_cables\": \"Ensure all network cables are securely connected.\",\n",
    "\"isp_contact\": \"If the issue continues, please contact your Internet Service Provider (ISP) for further assistance.\",\n",
    "\"clear_cache\": \"Clearing your browser cache can sometimes resolve connectivity issues.\"\n",
    "}\n",
    "\n",
    "def diagnose_network_issue():\n",
    "    print(\"Let's diagnose your network issue.\")\n",
    "    response = input(\"Have you tried restarting your router? (Yes/No): \").strip().lower()\n",
    "    if response == \"no\":\n",
    "        print(knowledge_base[\"restart_router\"])\n",
    "    return # Exit after suggesting a solution\n",
    "\n"
   ]
  }
 ],
 "metadata": {
  "language_info": {
   "name": "python"
  }
 },
 "nbformat": 4,
 "nbformat_minor": 5
}
