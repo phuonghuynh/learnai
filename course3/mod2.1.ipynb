{
 "cells": [
  {
   "cell_type": "code",
   "execution_count": 1,
   "id": "d03adac5",
   "metadata": {},
   "outputs": [
    {
     "name": "stderr",
     "output_type": "stream",
     "text": [
      "/Users/phuonghqh/.pyenv/versions/3.12.10/lib/python3.12/site-packages/tqdm/auto.py:21: TqdmWarning: IProgress not found. Please update jupyter and ipywidgets. See https://ipywidgets.readthedocs.io/en/stable/user_install.html\n",
      "  from .autonotebook import tqdm as notebook_tqdm\n",
      "No model was supplied, defaulted to distilbert/distilbert-base-cased-distilled-squad and revision 564e9b5 (https://huggingface.co/distilbert/distilbert-base-cased-distilled-squad).\n",
      "Using a pipeline without specifying a model name and revision in production is not recommended.\n",
      "Device set to use mps:0\n"
     ]
    },
    {
     "name": "stdout",
     "output_type": "stream",
     "text": [
      "No matching issue found in the knowledge base.\n"
     ]
    }
   ],
   "source": [
    "import json\n",
    "from transformers import pipeline\n",
    "\n",
    "# Load knowledge base\n",
    "with open('mod2.1.json', 'r') as f:\n",
    "    knowledge_base = json.load(f)\n",
    "\n",
    "# Initialize a simple NLP model\n",
    "nlp = pipeline('question-answering')\n",
    "\n",
    "# Get user input\n",
    "user_input = input(\"Please describe your problem: \")\n",
    "\n",
    "# Search knowledge base for a simple text-based match\n",
    "for issue, details in knowledge_base.items():\n",
    "    if details[\"symptom\"].lower() in user_input.lower():\n",
    "        print(f\"Possible solution: {details['solution']}\")\n",
    "        break\n",
    "else:\n",
    "    print(\"No matching issue found in the knowledge base.\")"
   ]
  },
  {
   "cell_type": "code",
   "execution_count": 5,
   "id": "3f09c50e",
   "metadata": {},
   "outputs": [],
   "source": [
    "def diagnose_network_issue():\n",
    "    print(\"Have you restarted your router?\")\n",
    "    response = input(\"Yes/No: \").strip().lower()\n",
    "    if response == \"no\":\n",
    "        print(\"Please restart your router and check again.\")\n",
    "    else:\n",
    "        print(\"Try resetting your network settings or contacting your provider.\")\n",
    "\n",
    "# Trigger diagnostic logic if the issue is related to the network\n",
    "if \"internet\" in user_input.lower():\n",
    "    diagnose_network_issue()"
   ]
  },
  {
   "cell_type": "code",
   "execution_count": 3,
   "id": "8ef9537b",
   "metadata": {},
   "outputs": [],
   "source": [
    "def automate_fix(issue):\n",
    "    if issue == \"slow_internet\":\n",
    "        print(\"Resetting network settings...\")\n",
    "        # Simulated network reset\n",
    "        print(\"Network settings have been reset. Please check your connection.\")\n",
    "    else:\n",
    "        print(\"Automation is not available for this issue.\")\n",
    "\n",
    "# Simulate automatic fix\n",
    "if \"internet\" in user_input.lower():\n",
    "    automate_fix(\"slow_internet\")"
   ]
  },
  {
   "cell_type": "code",
   "execution_count": 4,
   "id": "90e054a6",
   "metadata": {},
   "outputs": [
    {
     "name": "stdout",
     "output_type": "stream",
     "text": [
      "Great! Your feedback has been recorded.\n"
     ]
    }
   ],
   "source": [
    "def collect_feedback():\n",
    "    feedback = input(\"Did this solution resolve your issue? (Yes/No): \").strip().lower()\n",
    "    if feedback == \"yes\":\n",
    "        print(\"Great! Your feedback has been recorded.\")\n",
    "    else:\n",
    "        print(\"We're sorry the issue persists. We'll improve our solution based on your input.\")\n",
    "\n",
    "# Collect feedback after providing a solution\n",
    "collect_feedback()"
   ]
  }
 ],
 "metadata": {
  "kernelspec": {
   "display_name": "3.12.10",
   "language": "python",
   "name": "python3"
  },
  "language_info": {
   "codemirror_mode": {
    "name": "ipython",
    "version": 3
   },
   "file_extension": ".py",
   "mimetype": "text/x-python",
   "name": "python",
   "nbconvert_exporter": "python",
   "pygments_lexer": "ipython3",
   "version": "3.12.10"
  }
 },
 "nbformat": 4,
 "nbformat_minor": 5
}
