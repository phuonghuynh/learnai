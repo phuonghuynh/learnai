{
 "cells": [
  {
   "cell_type": "markdown",
   "id": "5a0df553",
   "metadata": {},
   "source": [
    "In this activity, you will implement a decision tree model using Python and the Scikit-learn library. Decision trees are versatile machine learning algorithms used for both classification and regression tasks. We’ll focus on using decision trees for classification, and you’ll learn how to build, train, and evaluate a decision tree model.\n",
    "\n",
    "By the end of this activity, you will be able to:\n",
    "\n",
    "Build and train a decision tree model using Scikit-learn for classification tasks.\n",
    "\n",
    "Assess the model's performance using accuracy and a confusion matrix. \n",
    "\n",
    "Assess the model’s performance by visualizing the decision tree structure.\n",
    "\n",
    "Tune a decision tree to prevent overfitting and improve its generalization to new data."
   ]
  },
  {
   "cell_type": "code",
   "execution_count": null,
   "id": "78c87653",
   "metadata": {
    "vscode": {
     "languageId": "plaintext"
    }
   },
   "outputs": [],
   "source": [
    "# Import necessary libraries\n",
    "import numpy as np\n",
    "import pandas as pd\n",
    "from sklearn.model_selection import train_test_split\n",
    "from sklearn.tree import DecisionTreeClassifier\n",
    "from sklearn.metrics import accuracy_score, confusion_matrix, classification_report\n",
    "import matplotlib.pyplot as plt\n",
    "from sklearn import tree"
   ]
  },
  {
   "cell_type": "code",
   "execution_count": null,
   "id": "0f111148",
   "metadata": {
    "vscode": {
     "languageId": "plaintext"
    }
   },
   "outputs": [],
   "source": [
    "# Sample dataset: Study hours, previous exam scores, and pass/fail labels\n",
    "data = {\n",
    "    'StudyHours': [1, 2, 3, 4, 5, 6, 7, 8, 9, 10],\n",
    "    'PrevExamScore': [30, 40, 45, 50, 60, 65, 70, 75, 80, 85],\n",
    "    'Pass': [0, 0, 0, 0, 0, 1, 1, 1, 1, 1]  # 0 = Fail, 1 = Pass\n",
    "}\n",
    "\n",
    "# Convert to DataFrame\n",
    "df = pd.DataFrame(data)\n",
    "\n",
    "# Display the first few rows of the data\n",
    "print(df.head())"
   ]
  },
  {
   "cell_type": "code",
   "execution_count": null,
   "id": "0263f44f",
   "metadata": {
    "vscode": {
     "languageId": "plaintext"
    }
   },
   "outputs": [],
   "source": [
    "# Features (X) and Target (y)\n",
    "X = df[['StudyHours', 'PrevExamScore']]  # Features\n",
    "y = df['Pass']                           # Target variable (0 = Fail, 1 = Pass)\n",
    "\n",
    "# Split data into 80% training and 20% testing\n",
    "X_train, X_test, y_train, y_test = train_test_split(X, y, test_size=0.2, random_state=42)\n",
    "\n",
    "# Display the shape of the training and testing sets\n",
    "print(f\"Training data: {X_train.shape}, {y_train.shape}\")\n",
    "print(f\"Testing data: {X_test.shape}, {y_test.shape}\")"
   ]
  },
  {
   "cell_type": "code",
   "execution_count": null,
   "id": "d20a2716",
   "metadata": {
    "vscode": {
     "languageId": "plaintext"
    }
   },
   "outputs": [],
   "source": [
    "# Initialize the Decision Tree Classifier\n",
    "model = DecisionTreeClassifier(random_state=42)\n",
    "\n",
    "# Train the model on the training data\n",
    "model.fit(X_train, y_train)\n",
    "\n",
    "# Display the model's parameters\n",
    "print(f\"Tree depth: {model.get_depth()}\")\n",
    "print(f\"Number of leaves: {model.get_n_leaves()}\")"
   ]
  },
  {
   "cell_type": "code",
   "execution_count": null,
   "id": "0ea3f932",
   "metadata": {
    "vscode": {
     "languageId": "plaintext"
    }
   },
   "outputs": [],
   "source": [
    "# Make predictions on the testing set\n",
    "y_pred = model.predict(X_test)\n",
    "\n",
    "# Display the predictions\n",
    "print(\"Predicted Outcomes (Pass/Fail):\", y_pred)\n",
    "print(\"Actual Outcomes:\", y_test.values)"
   ]
  },
  {
   "cell_type": "code",
   "execution_count": null,
   "id": "e20cd218",
   "metadata": {
    "vscode": {
     "languageId": "plaintext"
    }
   },
   "outputs": [],
   "source": [
    "# Calculate accuracy\n",
    "accuracy = accuracy_score(y_test, y_pred)\n",
    "\n",
    "# Generate confusion matrix\n",
    "conf_matrix = confusion_matrix(y_test, y_pred)\n",
    "\n",
    "# Generate classification report\n",
    "class_report = classification_report(y_test, y_pred)\n",
    "\n",
    "# Display evaluation metrics\n",
    "print(f\"Accuracy: {accuracy}\")\n",
    "print(\"Confusion Matrix:\")\n",
    "print(conf_matrix)\n",
    "print(\"Classification Report:\")\n",
    "print(class_report)"
   ]
  },
  {
   "cell_type": "code",
   "execution_count": null,
   "id": "6424419c",
   "metadata": {
    "vscode": {
     "languageId": "plaintext"
    }
   },
   "outputs": [],
   "source": [
    "# Visualize the decision tree\n",
    "plt.figure(figsize=(12,8))\n",
    "tree.plot_tree(model, feature_names=['StudyHours', 'PrevExamScore'], class_names=['Fail', 'Pass'], filled=True)\n",
    "plt.title('Decision Tree for Classifying Pass/Fail')\n",
    "plt.show()"
   ]
  },
  {
   "cell_type": "markdown",
   "id": "93dd1c65",
   "metadata": {},
   "source": [
    "Tuning the decision tree\n",
    "Decision trees can be prone to overfitting, especially if they are allowed to grow too deep. You can control the complexity of the tree by limiting its depth or the number of samples required to make a split:"
   ]
  },
  {
   "cell_type": "code",
   "execution_count": null,
   "id": "b7795d11",
   "metadata": {
    "vscode": {
     "languageId": "plaintext"
    }
   },
   "outputs": [],
   "source": [
    "# Limit the tree depth to avoid overfitting\n",
    "model_tuned = DecisionTreeClassifier(max_depth=3, random_state=42)\n",
    "\n",
    "# Train the model on the training data\n",
    "model_tuned.fit(X_train, y_train)\n",
    "\n",
    "# Make predictions with the tuned model\n",
    "y_pred_tuned = model_tuned.predict(X_test)\n",
    "\n",
    "# Evaluate the tuned model\n",
    "accuracy_tuned = accuracy_score(y_test, y_pred_tuned)\n",
    "print(f\"Accuracy (Tuned Model): {accuracy_tuned}\")"
   ]
  }
 ],
 "metadata": {
  "language_info": {
   "name": "python"
  }
 },
 "nbformat": 4,
 "nbformat_minor": 5
}
