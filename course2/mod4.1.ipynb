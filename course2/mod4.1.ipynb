{
 "cells": [
  {
   "cell_type": "markdown",
   "id": "faa2edeb",
   "metadata": {},
   "source": [
    "Azure offers tools such as Azure Machine Learning that facilitate the deployment and scaling of machine learning models, including neural networks.\n",
    "\n",
    "A neural network is composed of layers of neurons, where each neuron processes inputs and passes the output to the next layer. In this guide, we will focus on building and training a simple feedforward neural network using the Azure Machine Learning SDK and PyTorch, a widely used deep learning library.\n",
    "\n",
    "By the end of this lesson, you will be able to:\n",
    "\n",
    "Describe the steps needed for the basic implementation of a neural network using Python and Microsoft Azure. "
   ]
  },
  {
   "cell_type": "code",
   "execution_count": 2,
   "id": "f9c08c94",
   "metadata": {
    "ExecuteTime": {
     "start_time": "2025-06-10T05:53:35.147481Z"
    },
    "jupyter": {
     "is_executing": true
    }
   },
   "outputs": [
    {
     "ename": "ModuleNotFoundError",
     "evalue": "No module named 'azureml'",
     "output_type": "error",
     "traceback": [
      "\u001B[31m---------------------------------------------------------------------------\u001B[39m",
      "\u001B[31mModuleNotFoundError\u001B[39m                       Traceback (most recent call last)",
      "\u001B[36mCell\u001B[39m\u001B[36m \u001B[39m\u001B[32mIn[2]\u001B[39m\u001B[32m, line 1\u001B[39m\n\u001B[32m----> \u001B[39m\u001B[32m1\u001B[39m \u001B[38;5;28;01mfrom\u001B[39;00m\u001B[38;5;250m \u001B[39m\u001B[34;01mazureml\u001B[39;00m\u001B[34;01m.\u001B[39;00m\u001B[34;01mcore\u001B[39;00m\u001B[38;5;250m \u001B[39m\u001B[38;5;28;01mimport\u001B[39;00m Workspace\n\u001B[32m      3\u001B[39m \u001B[38;5;66;03m# Create or retrieve an existing Azure ML workspace\u001B[39;00m\n\u001B[32m      4\u001B[39m ws = Workspace.get(name=\u001B[33m'\u001B[39m\u001B[33mPhuonghqh1\u001B[39m\u001B[33m'\u001B[39m,\n\u001B[32m      5\u001B[39m                       subscription_id=\u001B[33m'\u001B[39m\u001B[33m9f6f29a3-541d-4d32-93a4-9004b107807d\u001B[39m\u001B[33m'\u001B[39m,\n\u001B[32m      6\u001B[39m                       resource_group=\u001B[33m'\u001B[39m\u001B[33mtest1\u001B[39m\u001B[33m'\u001B[39m,\n\u001B[32m      7\u001B[39m                       location=\u001B[33m'\u001B[39m\u001B[33mSoutheast Asia\u001B[39m\u001B[33m'\u001B[39m)\n",
      "\u001B[31mModuleNotFoundError\u001B[39m: No module named 'azureml'"
     ]
    }
   ],
   "source": [
    "from azureml.core import Workspace\n",
    "\n",
    "# Create or retrieve an existing Azure ML workspace\n",
    "ws = Workspace.get(name='Phuonghqh1',\n",
    "                      subscription_id='9f6f29a3-541d-4d32-93a4-9004b107807d',\n",
    "                      resource_group='test1',\n",
    "                      location='Southeast Asia')\n",
    "\n",
    "#ws = Workspace.create(name='myworkspace',\n",
    "#                      subscription_id='your-subscription-id',\n",
    "#                      resource_group='myresourcegroup',\n",
    "#                      location='eastus')\n",
    "\n",
    "# Write configuration to the workspace config file\n",
    "ws.write_config(path='.azureml')"
   ]
  },
  {
   "metadata": {
    "ExecuteTime": {
     "end_time": "2025-06-10T06:05:01.731644Z",
     "start_time": "2025-06-10T06:05:00.292637Z"
    }
   },
   "cell_type": "code",
   "source": [
    "import torch\n",
    "import torch.nn as nn\n",
    "import torch.optim as optim\n",
    "\n",
    "# Define a simple neural network with one hidden layer\n",
    "class SimpleNN(nn.Module):\n",
    "    def __init__(self):\n",
    "        super(SimpleNN, self).__init__()\n",
    "        self.fc1 = nn.Linear(784, 128)  # Input layer (784 input features)\n",
    "        self.fc2 = nn.Linear(128, 10)   # Output layer (10 classes)\n",
    "        self.relu = nn.ReLU()           # Activation function\n",
    "\n",
    "    def forward(self, x):\n",
    "        x = self.relu(self.fc1(x))  # Apply ReLU after the first layer\n",
    "        x = self.fc2(x)             # Output layer\n",
    "        return x\n",
    "\n",
    "# Initialize the neural network\n",
    "model = SimpleNN()\n",
    "\n",
    "# Define loss function and optimizer\n",
    "criterion = nn.CrossEntropyLoss()  # For classification tasks\n",
    "optimizer = optim.SGD(model.parameters(), lr=0.01)  # Stochastic Gradient Descent"
   ],
   "id": "ebe76810c692a0ee",
   "outputs": [],
   "execution_count": 4
  },
  {
   "metadata": {
    "ExecuteTime": {
     "end_time": "2025-06-10T06:07:28.889959Z",
     "start_time": "2025-06-10T06:05:05.037036Z"
    }
   },
   "cell_type": "code",
   "source": [
    "from torchvision import datasets, transforms\n",
    "\n",
    "# Load MNIST dataset\n",
    "train_loader = torch.utils.data.DataLoader(\n",
    "    datasets.MNIST(root='data', train=True, download=True,\n",
    "                   transform=transforms.ToTensor()),\n",
    "    batch_size=32, shuffle=True)\n",
    "\n",
    "# Train the model\n",
    "num_epochs = 5\n",
    "for epoch in range(num_epochs):\n",
    "    running_loss = 0.0\n",
    "    for inputs, labels in train_loader:\n",
    "        optimizer.zero_grad()  # Reset gradients\n",
    "\n",
    "        # Forward pass\n",
    "        outputs = model(inputs.view(-1, 784))  # Flatten input\n",
    "        loss = criterion(outputs, labels)      # Compute loss\n",
    "\n",
    "        # Backward pass and optimization\n",
    "        loss.backward()\n",
    "        optimizer.step()\n",
    "\n",
    "        running_loss += loss.item()\n",
    "\n",
    "    print(f\"Epoch {epoch+1}, Loss: {running_loss/len(train_loader)}\")"
   ],
   "id": "8d8d951efa2b4d88",
   "outputs": [
    {
     "name": "stderr",
     "output_type": "stream",
     "text": [
      "100.0%\n",
      "100.0%\n",
      "100.0%\n",
      "100.0%\n"
     ]
    },
    {
     "name": "stdout",
     "output_type": "stream",
     "text": [
      "Epoch 1, Loss: 0.8687211656411489\n",
      "Epoch 2, Loss: 0.3693331449667613\n",
      "Epoch 3, Loss: 0.314665305797259\n",
      "Epoch 4, Loss: 0.2832479240675767\n",
      "Epoch 5, Loss: 0.259672743088007\n"
     ]
    }
   ],
   "execution_count": 5
  },
  {
   "metadata": {
    "ExecuteTime": {
     "end_time": "2025-06-10T06:07:43.011852Z",
     "start_time": "2025-06-10T06:07:33.879970Z"
    }
   },
   "cell_type": "code",
   "source": [
    "from azureml.core import Model\n",
    "\n",
    "# Save the trained model\n",
    "torch.save(model.state_dict(), 'simple_nn.pth')\n",
    "\n",
    "# Register the model in Azure\n",
    "model = Model.register(workspace=ws, model_path='simple_nn.pth', model_name='simple_nn')\n",
    "\n",
    "# Deploying as a web service requires more steps such as creating a scoring script and environment."
   ],
   "id": "2b293ef9083a2412",
   "outputs": [
    {
     "name": "stdout",
     "output_type": "stream",
     "text": [
      "Registering model simple_nn\n"
     ]
    }
   ],
   "execution_count": 6
  }
 ],
 "metadata": {
  "kernelspec": {
   "display_name": "3.12.10",
   "language": "python",
   "name": "python3"
  },
  "language_info": {
   "codemirror_mode": {
    "name": "ipython",
    "version": 3
   },
   "file_extension": ".py",
   "mimetype": "text/x-python",
   "name": "python",
   "nbconvert_exporter": "python",
   "pygments_lexer": "ipython3",
   "version": "3.12.10"
  }
 },
 "nbformat": 4,
 "nbformat_minor": 5
}
