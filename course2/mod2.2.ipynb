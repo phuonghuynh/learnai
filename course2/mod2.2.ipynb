{
 "cells": [
  {
   "cell_type": "markdown",
   "id": "cc10c06d",
   "metadata": {},
   "source": [
    "In this activity, you will implement dimensionality reduction techniques using Python. You will apply both principal component analysis (PCA) and t-distributed stochastic neighbor embedding (t-SNE) to a dataset. The goal is to reduce the number of features and visualize the dataset in a lower-dimensional space while retaining as much useful information as possible.\n",
    "\n",
    "By the end of this activity, you'll be able to:\n",
    "\n",
    "Implement dimensionality reduction techniques: Apply PCA and t-SNE to reduce the dimensionality of a dataset using Python.\n",
    "\n",
    "Visualize reduced data: Create scatter plots to visualize the results of PCA and t-SNE, helping you understand how these techniques retain important information and reveal patterns in a lower-dimensional space.\n",
    "\n",
    "Interpret the outcomes of PCA and t-SNE: Explain how PCA captures variance through linear transformation and how t-SNE preserves local structures to highlight clusters, gaining insights into the dataset’s underlying patterns."
   ]
  },
  {
   "cell_type": "code",
   "execution_count": null,
   "id": "c57c0cab",
   "metadata": {
    "vscode": {
     "languageId": "plaintext"
    }
   },
   "outputs": [],
   "source": [
    "import pandas as pd\n",
    "import matplotlib.pyplot as plt\n",
    "from sklearn.decomposition import PCA\n",
    "from sklearn.manifold import TSNE\n",
    "from sklearn.preprocessing import StandardScaler"
   ]
  },
  {
   "cell_type": "code",
   "execution_count": null,
   "id": "fb6fb02d",
   "metadata": {
    "vscode": {
     "languageId": "plaintext"
    }
   },
   "outputs": [],
   "source": [
    "# Create a sample dataset with customer annual income, spending score, and age\n",
    "data = {\n",
    "    'AnnualIncome': [\n",
    "        15, 15.5, 16, 16.5, 17, 17.5, 18, 18.5, 19, 19.5, \n",
    "        20, 20.5, 21, 21.5, 22, 22.5, 23, 23.5, 24, 24.5, \n",
    "        25, 25.5, 26, 26.5, 27, 27.5, 28, 28.5, 29, 29.5, \n",
    "        30, 30.5, 31, 31.5, 32, 32.5, 33, 33.5, 34, 34.5, \n",
    "        35,   # Normal points\n",
    "        80, 85, 90  # Outliers\n",
    "    ],\n",
    "    'SpendingScore': [\n",
    "        39, 42, 45, 48, 51, 54, 57, 60, 63, 66,\n",
    "        69, 72, 75, 78, 81, 84, 87, 90, 93, 96,\n",
    "        6, 9, 12, 15, 18, 21, 24, 27, 30, 33,\n",
    "        5, 8, 11, 14, 17, 20, 23, 26, 29, 32,\n",
    "        56,   # Normal points\n",
    "        2, 3, 100  # Outliers\n",
    "    ],\n",
    "    'Age': [\n",
    "        20, 20.5, 21, 21.5, 22, 22.5, 23, 23.5, 24, 24.5, \n",
    "        25, 25.5, 26, 26.5, 27, 27.5, 28, 28.5, 29, 29.5, \n",
    "        30, 30.5, 31, 31.5, 32, 32.5, 33, 33.5, 34, 34.5, \n",
    "        35, 35.5, 36, 36.5, 37, 37.5, 38, 38.5, 39, 39.5, \n",
    "        40,   # Normal points\n",
    "        15, 60, 70  # Outliers\n",
    "    ]\n",
    "}\n",
    "\n",
    "df = pd.DataFrame(data)\n",
    "\n",
    "# Display the first few rows of the dataset\n",
    "print(df.head())"
   ]
  },
  {
   "cell_type": "code",
   "execution_count": null,
   "id": "0edb22e4",
   "metadata": {
    "vscode": {
     "languageId": "plaintext"
    }
   },
   "outputs": [],
   "source": [
    "# Normalize the data\n",
    "scaler = StandardScaler()\n",
    "scaled = scaler.fit_transform(df)\n",
    "\n",
    "# Convert back to DataFrame for easy handling\n",
    "df_scaled = pd.DataFrame(scaled, columns=['AnnualIncome', 'SpendingScore','Age'])\n",
    "\n",
    "print(df_scaled.head())"
   ]
  },
  {
   "cell_type": "code",
   "execution_count": null,
   "id": "9843ed6d",
   "metadata": {
    "vscode": {
     "languageId": "plaintext"
    }
   },
   "outputs": [],
   "source": [
    "# Apply PCA to reduce dimensions from 3 to 2\n",
    "pca = PCA(n_components=2)\n",
    "df_pca = pca.fit_transform(scaled)\n",
    "\n",
    "# Convert back to DataFrame for easy handling\n",
    "df_pca = pd.DataFrame(df_pca, columns=['PCA1', 'PCA2'])\n",
    "print(df_pca.head())"
   ]
  },
  {
   "cell_type": "code",
   "execution_count": null,
   "id": "e77dcd35",
   "metadata": {
    "vscode": {
     "languageId": "plaintext"
    }
   },
   "outputs": [],
   "source": [
    "# Plot the PCA components\n",
    "plt.scatter(df_pca['PCA1'], df_pca['PCA2'])\n",
    "plt.title('PCA - Dimensionality Reduction')\n",
    "plt.xlabel('PCA1')\n",
    "plt.ylabel('PCA2')\n",
    "plt.show()"
   ]
  },
  {
   "cell_type": "code",
   "execution_count": null,
   "id": "ae2e93a6",
   "metadata": {
    "vscode": {
     "languageId": "plaintext"
    }
   },
   "outputs": [],
   "source": [
    "# Apply t-SNE to reduce dimensions to 2\n",
    "tsne = TSNE(n_components=2, perplexity=3, random_state=42)\n",
    "df_tsne = tsne.fit_transform(scaled)\n",
    "\n",
    "# Convert the t-SNE result back to a DataFrame\n",
    "df_tsne = pd.DataFrame(df_tsne, columns=['t-SNE1', 't-SNE2'])\n",
    "print(df_tsne.head())"
   ]
  },
  {
   "cell_type": "code",
   "execution_count": null,
   "id": "66e7e66d",
   "metadata": {
    "vscode": {
     "languageId": "plaintext"
    }
   },
   "outputs": [],
   "source": [
    "# Plot the t-SNE components\n",
    "plt.scatter(df_tsne['t-SNE1'], df_tsne['t-SNE2'])\n",
    "plt.title('t-SNE - Dimensionality Reduction')\n",
    "plt.xlabel('t-SNE1')\n",
    "plt.ylabel('t-SNE2')\n",
    "plt.show()"
   ]
  }
 ],
 "metadata": {
  "language_info": {
   "name": "python"
  }
 },
 "nbformat": 4,
 "nbformat_minor": 5
}
